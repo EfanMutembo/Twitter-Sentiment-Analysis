{
 "cells": [
  {
   "cell_type": "markdown",
   "id": "a921f0a2",
   "metadata": {},
   "source": [
    "# 1 . Authenticate to Twitter"
   ]
  },
  {
   "cell_type": "code",
   "execution_count": 1,
   "id": "ec9da91c",
   "metadata": {},
   "outputs": [],
   "source": [
    "import tweepy as tw\n",
    "import matplotlib.pyplot as plt\n",
    "import pandas as pd\n",
    "import numpy as np"
   ]
  },
  {
   "cell_type": "code",
   "execution_count": 2,
   "id": "5036b061",
   "metadata": {},
   "outputs": [],
   "source": [
    "%store -r bearer_token\n",
    "#initialize client\n",
    "client = tw.Client(bearer_token=bearer_token)"
   ]
  },
  {
   "cell_type": "markdown",
   "id": "1645f8ad",
   "metadata": {},
   "source": [
    "# 2. Get Tweets\n",
    "- Collect the sentiment(tweets) of each day fro the past seven days at 2400\n",
    "- Collect the varying sentiment over a day at 4 ifeent times of day\n",
    "\n",
    "0600,1200,1800,2400"
   ]
  },
  {
   "cell_type": "code",
   "execution_count": 3,
   "id": "491f6197",
   "metadata": {},
   "outputs": [],
   "source": [
    "import datetime\n",
    "\n",
    "# get current time and start time (14 days ago)\n",
    "yesterday = datetime.datetime.now() - datetime.timedelta(days=1)\n",
    "start_time = yesterday.replace(hour=20,minute=0, second=0, microsecond=0)\n",
    "\n",
    "\n",
    "# format start time string for Twitter API\n",
    "start_time_str = start_time.strftime(\"%Y-%m-%dT%H:%M:%SZ\")\n"
   ]
  },
  {
   "cell_type": "code",
   "execution_count": 4,
   "id": "ffcaed92",
   "metadata": {
    "scrolled": false
   },
   "outputs": [],
   "source": [
    "\n",
    "#Create a query\n",
    "query = '#BTC #bitcoin -is:retweet -eth -ETH -#ETH'\n",
    "\n",
    "\n",
    "#Send the request through the client method\n",
    "response = (tw.Paginator(client.search_recent_tweets,query=query,end_time = start_time  ,\n",
    "                              tweet_fields=['context_annotations', 'created_at'], max_results=100).flatten(limit=150))\n",
    "\n"
   ]
  },
  {
   "cell_type": "code",
   "execution_count": 5,
   "id": "b3247c97",
   "metadata": {},
   "outputs": [],
   "source": [
    "#Unpack the api response into a dictionary\n",
    "tweets= [{'Tweets':tweet.text,'Timestamp':tweet.created_at} for tweet in response]"
   ]
  },
  {
   "cell_type": "markdown",
   "id": "8081331d",
   "metadata": {},
   "source": [
    "Im trying to make the call 7 times with diferent end time each time\n",
    "- Trouble unpacking the gen obj"
   ]
  },
  {
   "cell_type": "markdown",
   "id": "527c8fda",
   "metadata": {},
   "source": [
    "# 3. Preprocess\n",
    "- Clean the tweets\n",
    "- Lematize words\n",
    "\n",
    "Lematize is reducing a word to base form. Walks walking walked get turned to Walk. Making it easier to analyze"
   ]
  },
  {
   "cell_type": "code",
   "execution_count": 6,
   "id": "ebc4e2c3",
   "metadata": {},
   "outputs": [
    {
     "data": {
      "text/html": [
       "<div>\n",
       "<style scoped>\n",
       "    .dataframe tbody tr th:only-of-type {\n",
       "        vertical-align: middle;\n",
       "    }\n",
       "\n",
       "    .dataframe tbody tr th {\n",
       "        vertical-align: top;\n",
       "    }\n",
       "\n",
       "    .dataframe thead th {\n",
       "        text-align: right;\n",
       "    }\n",
       "</style>\n",
       "<table border=\"1\" class=\"dataframe\">\n",
       "  <thead>\n",
       "    <tr style=\"text-align: right;\">\n",
       "      <th></th>\n",
       "      <th>Tweets</th>\n",
       "      <th>Timestamp</th>\n",
       "    </tr>\n",
       "  </thead>\n",
       "  <tbody>\n",
       "    <tr>\n",
       "      <th>0</th>\n",
       "      <td>1- #Bitcoin : Önceki iki ay; bankalar battı, B...</td>\n",
       "      <td>2023-05-15 19:59:59+00:00</td>\n",
       "    </tr>\n",
       "    <tr>\n",
       "      <th>1</th>\n",
       "      <td>HI I'm an AI bot I will show my result\\nfor in...</td>\n",
       "      <td>2023-05-15 19:59:27+00:00</td>\n",
       "    </tr>\n",
       "    <tr>\n",
       "      <th>2</th>\n",
       "      <td>The #cryptocurrency conspiracy. A MUST WATCH a...</td>\n",
       "      <td>2023-05-15 19:59:16+00:00</td>\n",
       "    </tr>\n",
       "    <tr>\n",
       "      <th>3</th>\n",
       "      <td>The number of 'Wholecoiners,' or addresses hol...</td>\n",
       "      <td>2023-05-15 19:59:06+00:00</td>\n",
       "    </tr>\n",
       "    <tr>\n",
       "      <th>4</th>\n",
       "      <td>#DEX @TransitFinance ve #Nervos ekosisteminin ...</td>\n",
       "      <td>2023-05-15 19:58:37+00:00</td>\n",
       "    </tr>\n",
       "  </tbody>\n",
       "</table>\n",
       "</div>"
      ],
      "text/plain": [
       "                                              Tweets                 Timestamp\n",
       "0  1- #Bitcoin : Önceki iki ay; bankalar battı, B... 2023-05-15 19:59:59+00:00\n",
       "1  HI I'm an AI bot I will show my result\\nfor in... 2023-05-15 19:59:27+00:00\n",
       "2  The #cryptocurrency conspiracy. A MUST WATCH a... 2023-05-15 19:59:16+00:00\n",
       "3  The number of 'Wholecoiners,' or addresses hol... 2023-05-15 19:59:06+00:00\n",
       "4  #DEX @TransitFinance ve #Nervos ekosisteminin ... 2023-05-15 19:58:37+00:00"
      ]
     },
     "execution_count": 6,
     "metadata": {},
     "output_type": "execute_result"
    }
   ],
   "source": [
    "df = pd.DataFrame.from_dict(tweets)\n",
    "df.head()"
   ]
  },
  {
   "cell_type": "code",
   "execution_count": 7,
   "id": "c2368784",
   "metadata": {},
   "outputs": [
    {
     "data": {
      "text/plain": [
       "(150, 2)"
      ]
     },
     "execution_count": 7,
     "metadata": {},
     "output_type": "execute_result"
    }
   ],
   "source": [
    "df.shape"
   ]
  },
  {
   "cell_type": "code",
   "execution_count": 8,
   "id": "6e35730b",
   "metadata": {},
   "outputs": [],
   "source": [
    "#import libs\n",
    "import nltk\n",
    "from nltk.corpus import stopwords\n",
    "from textblob import Word, TextBlob"
   ]
  },
  {
   "cell_type": "code",
   "execution_count": 9,
   "id": "2cc30414",
   "metadata": {},
   "outputs": [
    {
     "name": "stderr",
     "output_type": "stream",
     "text": [
      "[nltk_data] Downloading package stopwords to\n",
      "[nltk_data]     C:\\Users\\w126311\\AppData\\Roaming\\nltk_data...\n",
      "[nltk_data]   Package stopwords is already up-to-date!\n",
      "[nltk_data] Downloading package wordnet to\n",
      "[nltk_data]     C:\\Users\\w126311\\AppData\\Roaming\\nltk_data...\n",
      "[nltk_data]   Package wordnet is already up-to-date!\n",
      "[nltk_data] Downloading package omw-1.4 to\n",
      "[nltk_data]     C:\\Users\\w126311\\AppData\\Roaming\\nltk_data...\n",
      "[nltk_data]   Package omw-1.4 is already up-to-date!\n"
     ]
    }
   ],
   "source": [
    "nltk.download('stopwords')\n",
    "nltk.download('wordnet')\n",
    "nltk.download('omw-1.4')\n",
    "stop_words = [stopwords.words('english')]\n",
    "custom_stopwords = ['#','RT','crypto']"
   ]
  },
  {
   "cell_type": "code",
   "execution_count": 10,
   "id": "cbb9e320",
   "metadata": {},
   "outputs": [
    {
     "data": {
      "text/html": [
       "<div>\n",
       "<style scoped>\n",
       "    .dataframe tbody tr th:only-of-type {\n",
       "        vertical-align: middle;\n",
       "    }\n",
       "\n",
       "    .dataframe tbody tr th {\n",
       "        vertical-align: top;\n",
       "    }\n",
       "\n",
       "    .dataframe thead th {\n",
       "        text-align: right;\n",
       "    }\n",
       "</style>\n",
       "<table border=\"1\" class=\"dataframe\">\n",
       "  <thead>\n",
       "    <tr style=\"text-align: right;\">\n",
       "      <th></th>\n",
       "      <th>Tweets</th>\n",
       "      <th>Timestamp</th>\n",
       "      <th>Processed Tweet</th>\n",
       "    </tr>\n",
       "  </thead>\n",
       "  <tbody>\n",
       "    <tr>\n",
       "      <th>0</th>\n",
       "      <td>1- #Bitcoin : Önceki iki ay; bankalar battı, B...</td>\n",
       "      <td>2023-05-15 19:59:59+00:00</td>\n",
       "      <td>1- #Bitcoin : Önceki iki ay; bankalar battı, B...</td>\n",
       "    </tr>\n",
       "    <tr>\n",
       "      <th>1</th>\n",
       "      <td>HI I'm an AI bot I will show my result\\nfor in...</td>\n",
       "      <td>2023-05-15 19:59:27+00:00</td>\n",
       "      <td>HI I'm an AI bot I will show my result for inf...</td>\n",
       "    </tr>\n",
       "    <tr>\n",
       "      <th>2</th>\n",
       "      <td>The #cryptocurrency conspiracy. A MUST WATCH a...</td>\n",
       "      <td>2023-05-15 19:59:16+00:00</td>\n",
       "      <td>The #cryptocurrency conspiracy. A MUST WATCH a...</td>\n",
       "    </tr>\n",
       "    <tr>\n",
       "      <th>3</th>\n",
       "      <td>The number of 'Wholecoiners,' or addresses hol...</td>\n",
       "      <td>2023-05-15 19:59:06+00:00</td>\n",
       "      <td>The number of 'Wholecoiners,' or address holdi...</td>\n",
       "    </tr>\n",
       "    <tr>\n",
       "      <th>4</th>\n",
       "      <td>#DEX @TransitFinance ve #Nervos ekosisteminin ...</td>\n",
       "      <td>2023-05-15 19:58:37+00:00</td>\n",
       "      <td>#DEX @TransitFinance ve #Nervos ekosisteminin ...</td>\n",
       "    </tr>\n",
       "  </tbody>\n",
       "</table>\n",
       "</div>"
      ],
      "text/plain": [
       "                                              Tweets  \\\n",
       "0  1- #Bitcoin : Önceki iki ay; bankalar battı, B...   \n",
       "1  HI I'm an AI bot I will show my result\\nfor in...   \n",
       "2  The #cryptocurrency conspiracy. A MUST WATCH a...   \n",
       "3  The number of 'Wholecoiners,' or addresses hol...   \n",
       "4  #DEX @TransitFinance ve #Nervos ekosisteminin ...   \n",
       "\n",
       "                  Timestamp                                    Processed Tweet  \n",
       "0 2023-05-15 19:59:59+00:00  1- #Bitcoin : Önceki iki ay; bankalar battı, B...  \n",
       "1 2023-05-15 19:59:27+00:00  HI I'm an AI bot I will show my result for inf...  \n",
       "2 2023-05-15 19:59:16+00:00  The #cryptocurrency conspiracy. A MUST WATCH a...  \n",
       "3 2023-05-15 19:59:06+00:00  The number of 'Wholecoiners,' or address holdi...  \n",
       "4 2023-05-15 19:58:37+00:00  #DEX @TransitFinance ve #Nervos ekosisteminin ...  "
      ]
     },
     "execution_count": 10,
     "metadata": {},
     "output_type": "execute_result"
    }
   ],
   "source": [
    "def preprocess_tweets(tweet, custom_stopwords):\n",
    "    processed_tweet = tweet\n",
    "    processed_tweet.replace('[^\\w\\s]', '')\n",
    "    processed_tweet = \" \".join(word for word in processed_tweet.split() if word not in stop_words)\n",
    "    processed_tweet = \" \".join(word for word in processed_tweet.split() if word not in custom_stopwords)\n",
    "    processed_tweet = \" \".join(Word(word).lemmatize() for word in processed_tweet.split())\n",
    "    return(processed_tweet)\n",
    "\n",
    "df['Processed Tweet'] = df['Tweets'].apply(lambda x: preprocess_tweets(x, custom_stopwords))\n",
    "df.head()"
   ]
  },
  {
   "cell_type": "markdown",
   "id": "4a50983f",
   "metadata": {},
   "source": [
    "# 4. Calculate Sentiment\n",
    "- Get Polarity and Subjectivity\n",
    "\n",
    "**Polarity** : Negative or Positive\n",
    "\n",
    "**Subjectivity**: How much based on emotion is the tweet"
   ]
  },
  {
   "cell_type": "code",
   "execution_count": 11,
   "id": "b61fb3b3",
   "metadata": {},
   "outputs": [],
   "source": [
    "df['polarity'] = df['Processed Tweet'].apply(lambda x: TextBlob(x).sentiment[0])\n",
    "df['subjectivity'] = df['Processed Tweet'].apply(lambda x: TextBlob(x).sentiment[1])"
   ]
  },
  {
   "cell_type": "code",
   "execution_count": 12,
   "id": "dc61b78e",
   "metadata": {
    "scrolled": true
   },
   "outputs": [
    {
     "data": {
      "text/html": [
       "<div>\n",
       "<style scoped>\n",
       "    .dataframe tbody tr th:only-of-type {\n",
       "        vertical-align: middle;\n",
       "    }\n",
       "\n",
       "    .dataframe tbody tr th {\n",
       "        vertical-align: top;\n",
       "    }\n",
       "\n",
       "    .dataframe thead th {\n",
       "        text-align: right;\n",
       "    }\n",
       "</style>\n",
       "<table border=\"1\" class=\"dataframe\">\n",
       "  <thead>\n",
       "    <tr style=\"text-align: right;\">\n",
       "      <th></th>\n",
       "      <th>Tweets</th>\n",
       "      <th>Timestamp</th>\n",
       "      <th>Processed Tweet</th>\n",
       "      <th>polarity</th>\n",
       "      <th>subjectivity</th>\n",
       "    </tr>\n",
       "  </thead>\n",
       "  <tbody>\n",
       "    <tr>\n",
       "      <th>0</th>\n",
       "      <td>1- #Bitcoin : Önceki iki ay; bankalar battı, B...</td>\n",
       "      <td>2023-05-15 19:59:59+00:00</td>\n",
       "      <td>1- #Bitcoin : Önceki iki ay; bankalar battı, B...</td>\n",
       "      <td>0.000000</td>\n",
       "      <td>0.000000</td>\n",
       "    </tr>\n",
       "    <tr>\n",
       "      <th>1</th>\n",
       "      <td>HI I'm an AI bot I will show my result\\nfor in...</td>\n",
       "      <td>2023-05-15 19:59:27+00:00</td>\n",
       "      <td>HI I'm an AI bot I will show my result for inf...</td>\n",
       "      <td>0.000000</td>\n",
       "      <td>0.000000</td>\n",
       "    </tr>\n",
       "    <tr>\n",
       "      <th>2</th>\n",
       "      <td>The #cryptocurrency conspiracy. A MUST WATCH a...</td>\n",
       "      <td>2023-05-15 19:59:16+00:00</td>\n",
       "      <td>The #cryptocurrency conspiracy. A MUST WATCH a...</td>\n",
       "      <td>0.418182</td>\n",
       "      <td>0.527273</td>\n",
       "    </tr>\n",
       "    <tr>\n",
       "      <th>3</th>\n",
       "      <td>The number of 'Wholecoiners,' or addresses hol...</td>\n",
       "      <td>2023-05-15 19:59:06+00:00</td>\n",
       "      <td>The number of 'Wholecoiners,' or address holdi...</td>\n",
       "      <td>0.100000</td>\n",
       "      <td>0.450000</td>\n",
       "    </tr>\n",
       "    <tr>\n",
       "      <th>4</th>\n",
       "      <td>#DEX @TransitFinance ve #Nervos ekosisteminin ...</td>\n",
       "      <td>2023-05-15 19:58:37+00:00</td>\n",
       "      <td>#DEX @TransitFinance ve #Nervos ekosisteminin ...</td>\n",
       "      <td>0.000000</td>\n",
       "      <td>0.000000</td>\n",
       "    </tr>\n",
       "  </tbody>\n",
       "</table>\n",
       "</div>"
      ],
      "text/plain": [
       "                                              Tweets  \\\n",
       "0  1- #Bitcoin : Önceki iki ay; bankalar battı, B...   \n",
       "1  HI I'm an AI bot I will show my result\\nfor in...   \n",
       "2  The #cryptocurrency conspiracy. A MUST WATCH a...   \n",
       "3  The number of 'Wholecoiners,' or addresses hol...   \n",
       "4  #DEX @TransitFinance ve #Nervos ekosisteminin ...   \n",
       "\n",
       "                  Timestamp  \\\n",
       "0 2023-05-15 19:59:59+00:00   \n",
       "1 2023-05-15 19:59:27+00:00   \n",
       "2 2023-05-15 19:59:16+00:00   \n",
       "3 2023-05-15 19:59:06+00:00   \n",
       "4 2023-05-15 19:58:37+00:00   \n",
       "\n",
       "                                     Processed Tweet  polarity  subjectivity  \n",
       "0  1- #Bitcoin : Önceki iki ay; bankalar battı, B...  0.000000      0.000000  \n",
       "1  HI I'm an AI bot I will show my result for inf...  0.000000      0.000000  \n",
       "2  The #cryptocurrency conspiracy. A MUST WATCH a...  0.418182      0.527273  \n",
       "3  The number of 'Wholecoiners,' or address holdi...  0.100000      0.450000  \n",
       "4  #DEX @TransitFinance ve #Nervos ekosisteminin ...  0.000000      0.000000  "
      ]
     },
     "execution_count": 12,
     "metadata": {},
     "output_type": "execute_result"
    }
   ],
   "source": [
    "df.head()"
   ]
  },
  {
   "cell_type": "code",
   "execution_count": 13,
   "id": "e49587cb",
   "metadata": {},
   "outputs": [
    {
     "data": {
      "text/plain": [
       "(150, 5)"
      ]
     },
     "execution_count": 13,
     "metadata": {},
     "output_type": "execute_result"
    }
   ],
   "source": [
    "df.shape"
   ]
  },
  {
   "cell_type": "code",
   "execution_count": 14,
   "id": "967bfe66",
   "metadata": {},
   "outputs": [
    {
     "data": {
      "text/html": [
       "<div>\n",
       "<style scoped>\n",
       "    .dataframe tbody tr th:only-of-type {\n",
       "        vertical-align: middle;\n",
       "    }\n",
       "\n",
       "    .dataframe tbody tr th {\n",
       "        vertical-align: top;\n",
       "    }\n",
       "\n",
       "    .dataframe thead th {\n",
       "        text-align: right;\n",
       "    }\n",
       "</style>\n",
       "<table border=\"1\" class=\"dataframe\">\n",
       "  <thead>\n",
       "    <tr style=\"text-align: right;\">\n",
       "      <th></th>\n",
       "      <th>polarity</th>\n",
       "      <th>subjectivity</th>\n",
       "    </tr>\n",
       "  </thead>\n",
       "  <tbody>\n",
       "    <tr>\n",
       "      <th>count</th>\n",
       "      <td>150.000000</td>\n",
       "      <td>150.000000</td>\n",
       "    </tr>\n",
       "    <tr>\n",
       "      <th>mean</th>\n",
       "      <td>0.039207</td>\n",
       "      <td>0.177885</td>\n",
       "    </tr>\n",
       "    <tr>\n",
       "      <th>std</th>\n",
       "      <td>0.170935</td>\n",
       "      <td>0.253836</td>\n",
       "    </tr>\n",
       "    <tr>\n",
       "      <th>min</th>\n",
       "      <td>-0.600000</td>\n",
       "      <td>0.000000</td>\n",
       "    </tr>\n",
       "    <tr>\n",
       "      <th>25%</th>\n",
       "      <td>0.000000</td>\n",
       "      <td>0.000000</td>\n",
       "    </tr>\n",
       "    <tr>\n",
       "      <th>50%</th>\n",
       "      <td>0.000000</td>\n",
       "      <td>0.000000</td>\n",
       "    </tr>\n",
       "    <tr>\n",
       "      <th>75%</th>\n",
       "      <td>0.025000</td>\n",
       "      <td>0.393750</td>\n",
       "    </tr>\n",
       "    <tr>\n",
       "      <th>max</th>\n",
       "      <td>1.000000</td>\n",
       "      <td>1.000000</td>\n",
       "    </tr>\n",
       "  </tbody>\n",
       "</table>\n",
       "</div>"
      ],
      "text/plain": [
       "         polarity  subjectivity\n",
       "count  150.000000    150.000000\n",
       "mean     0.039207      0.177885\n",
       "std      0.170935      0.253836\n",
       "min     -0.600000      0.000000\n",
       "25%      0.000000      0.000000\n",
       "50%      0.000000      0.000000\n",
       "75%      0.025000      0.393750\n",
       "max      1.000000      1.000000"
      ]
     },
     "execution_count": 14,
     "metadata": {},
     "output_type": "execute_result"
    }
   ],
   "source": [
    "df.describe()"
   ]
  },
  {
   "cell_type": "markdown",
   "id": "08ec8555",
   "metadata": {},
   "source": [
    "# 5. Vizualize"
   ]
  },
  {
   "cell_type": "code",
   "execution_count": 15,
   "id": "f2293657",
   "metadata": {},
   "outputs": [],
   "source": [
    "#make a moving average for sentiment\n",
    "\n",
    "btc = df[['Timestamp', 'polarity']]\n",
    "btc = btc.sort_values(by='Timestamp', ascending=True)\n",
    "btc['MA Polarity'] = btc.polarity.rolling(10, min_periods=3).mean()"
   ]
  },
  {
   "cell_type": "code",
   "execution_count": 16,
   "id": "3b9787ba",
   "metadata": {
    "scrolled": true
   },
   "outputs": [
    {
     "data": {
      "text/html": [
       "<div>\n",
       "<style scoped>\n",
       "    .dataframe tbody tr th:only-of-type {\n",
       "        vertical-align: middle;\n",
       "    }\n",
       "\n",
       "    .dataframe tbody tr th {\n",
       "        vertical-align: top;\n",
       "    }\n",
       "\n",
       "    .dataframe thead th {\n",
       "        text-align: right;\n",
       "    }\n",
       "</style>\n",
       "<table border=\"1\" class=\"dataframe\">\n",
       "  <thead>\n",
       "    <tr style=\"text-align: right;\">\n",
       "      <th></th>\n",
       "      <th>Timestamp</th>\n",
       "      <th>polarity</th>\n",
       "      <th>MA Polarity</th>\n",
       "    </tr>\n",
       "  </thead>\n",
       "  <tbody>\n",
       "    <tr>\n",
       "      <th>149</th>\n",
       "      <td>2023-05-15 19:32:23+00:00</td>\n",
       "      <td>-0.181818</td>\n",
       "      <td>NaN</td>\n",
       "    </tr>\n",
       "    <tr>\n",
       "      <th>148</th>\n",
       "      <td>2023-05-15 19:32:34+00:00</td>\n",
       "      <td>0.000000</td>\n",
       "      <td>NaN</td>\n",
       "    </tr>\n",
       "    <tr>\n",
       "      <th>147</th>\n",
       "      <td>2023-05-15 19:32:34+00:00</td>\n",
       "      <td>0.000000</td>\n",
       "      <td>-0.060606</td>\n",
       "    </tr>\n",
       "    <tr>\n",
       "      <th>146</th>\n",
       "      <td>2023-05-15 19:32:35+00:00</td>\n",
       "      <td>0.000000</td>\n",
       "      <td>-0.045455</td>\n",
       "    </tr>\n",
       "    <tr>\n",
       "      <th>145</th>\n",
       "      <td>2023-05-15 19:32:43+00:00</td>\n",
       "      <td>-0.008333</td>\n",
       "      <td>-0.038030</td>\n",
       "    </tr>\n",
       "  </tbody>\n",
       "</table>\n",
       "</div>"
      ],
      "text/plain": [
       "                    Timestamp  polarity  MA Polarity\n",
       "149 2023-05-15 19:32:23+00:00 -0.181818          NaN\n",
       "148 2023-05-15 19:32:34+00:00  0.000000          NaN\n",
       "147 2023-05-15 19:32:34+00:00  0.000000    -0.060606\n",
       "146 2023-05-15 19:32:35+00:00  0.000000    -0.045455\n",
       "145 2023-05-15 19:32:43+00:00 -0.008333    -0.038030"
      ]
     },
     "execution_count": 16,
     "metadata": {},
     "output_type": "execute_result"
    }
   ],
   "source": [
    "btc.head()"
   ]
  },
  {
   "cell_type": "code",
   "execution_count": 17,
   "id": "c74866d2",
   "metadata": {
    "scrolled": true
   },
   "outputs": [
    {
     "data": {
      "image/png": "[encoded data removed]",
      "text/plain": [
       "<Figure size 1080x576 with 1 Axes>"
      ]
     },
     "metadata": {
      "needs_background": "light"
     },
     "output_type": "display_data"
    }
   ],
   "source": [
    "#plot the MA polarity\n",
    "fig,ax = plt.subplots(figsize=(15,8))\n",
    "ax.plot(btc['Timestamp'],btc['MA Polarity'])\n",
    "ax.set_title('Bitcoin Moving Average Polarity',fontsize = 25);\n",
    "ax.set_ylabel('Polarity',fontsize = 20);\n",
    "ax.set_xlabel('Time',fontsize = 20);"
   ]
  },
  {
   "cell_type": "markdown",
   "id": "de32d8f8",
   "metadata": {},
   "source": [
    "# 6. Compare With BTC price\n",
    "- Collect BTC price data\n",
    "- Make sure the data is from the same time period as the tweets"
   ]
  },
  {
   "cell_type": "code",
   "execution_count": 18,
   "id": "2099ad3b",
   "metadata": {
    "scrolled": true
   },
   "outputs": [],
   "source": [
    "#Get the tweets time range\n",
    "start_range = df['Timestamp'].iloc[-1].round('min')\n",
    "end_range = df['Timestamp'][0].round('min')\n",
    "\n",
    "# Format the timestamp\n",
    "formatted_start_range = start_range.strftime(\"%Y-%m-%d %H:%M:%S\")\n",
    "formatted_end_range = end_range.strftime(\"%Y-%m-%d %H:%M:%S\")\n",
    "\n",
    "#Set the API hours variable based on the tweets end_range\n",
    "API_hours = end_range.round('H').hour+1"
   ]
  },
  {
   "cell_type": "code",
   "execution_count": 19,
   "id": "70075c07",
   "metadata": {
    "scrolled": true
   },
   "outputs": [],
   "source": [
    "#Get the price data from API\n",
    "\n",
    "import requests\n",
    "import time\n",
    "\n",
    "#get data from api\n",
    "\n",
    "url = 'https://min-api.cryptocompare.com/data/v2/histominute'\n",
    "\n",
    "start_time = yesterday.replace(hour=API_hours,minute=0, second=0, microsecond=0)\n",
    "\n",
    "# set the parameters for the API request\n",
    "params = {\n",
    "    'fsym': 'BTC',\n",
    "    'tsym': 'USD',\n",
    "    'limit': 1400,  # number of minutes to retrieve\n",
    "    'aggregate': 1,  # granularity of the data (1 = 1 minute)\n",
    "    'toTs': int(time.mktime(start_time.timetuple()))\n",
    "}\n",
    "\n",
    "response = requests.get(url, params=params)\n",
    "data = response.json()['Data']['Data']\n",
    "df_price = pd.DataFrame(data = data)\n",
    "\n",
    "\n",
    "df_price['time'] = pd.to_datetime(df_price['time'], unit='s')\n"
   ]
  },
  {
   "cell_type": "code",
   "execution_count": 20,
   "id": "2c081623",
   "metadata": {},
   "outputs": [],
   "source": [
    "#get the index in the price df of values we want\n",
    "start_of_tweets = df_price['time'][df_price['time'] == formatted_start_range].index.item()\n",
    "end_of_tweets = df_price['time'][df_price['time'] == formatted_end_range].index.item()\n"
   ]
  },
  {
   "cell_type": "code",
   "execution_count": 21,
   "id": "b35cb90e",
   "metadata": {},
   "outputs": [
    {
     "data": {
      "text/html": [
       "<div>\n",
       "<style scoped>\n",
       "    .dataframe tbody tr th:only-of-type {\n",
       "        vertical-align: middle;\n",
       "    }\n",
       "\n",
       "    .dataframe tbody tr th {\n",
       "        vertical-align: top;\n",
       "    }\n",
       "\n",
       "    .dataframe thead th {\n",
       "        text-align: right;\n",
       "    }\n",
       "</style>\n",
       "<table border=\"1\" class=\"dataframe\">\n",
       "  <thead>\n",
       "    <tr style=\"text-align: right;\">\n",
       "      <th></th>\n",
       "      <th>time</th>\n",
       "      <th>high</th>\n",
       "      <th>low</th>\n",
       "      <th>open</th>\n",
       "      <th>volumefrom</th>\n",
       "      <th>volumeto</th>\n",
       "      <th>close</th>\n",
       "      <th>conversionType</th>\n",
       "      <th>conversionSymbol</th>\n",
       "    </tr>\n",
       "  </thead>\n",
       "  <tbody>\n",
       "    <tr>\n",
       "      <th>1372</th>\n",
       "      <td>2023-05-15 19:32:00</td>\n",
       "      <td>27402.26</td>\n",
       "      <td>27386.48</td>\n",
       "      <td>27402.26</td>\n",
       "      <td>25.74</td>\n",
       "      <td>704901.79</td>\n",
       "      <td>27390.57</td>\n",
       "      <td>direct</td>\n",
       "      <td></td>\n",
       "    </tr>\n",
       "    <tr>\n",
       "      <th>1373</th>\n",
       "      <td>2023-05-15 19:33:00</td>\n",
       "      <td>27394.13</td>\n",
       "      <td>27379.53</td>\n",
       "      <td>27390.57</td>\n",
       "      <td>24.74</td>\n",
       "      <td>677465.62</td>\n",
       "      <td>27380.80</td>\n",
       "      <td>direct</td>\n",
       "      <td></td>\n",
       "    </tr>\n",
       "    <tr>\n",
       "      <th>1374</th>\n",
       "      <td>2023-05-15 19:34:00</td>\n",
       "      <td>27381.48</td>\n",
       "      <td>27372.34</td>\n",
       "      <td>27380.80</td>\n",
       "      <td>25.13</td>\n",
       "      <td>687884.88</td>\n",
       "      <td>27377.73</td>\n",
       "      <td>direct</td>\n",
       "      <td></td>\n",
       "    </tr>\n",
       "    <tr>\n",
       "      <th>1375</th>\n",
       "      <td>2023-05-15 19:35:00</td>\n",
       "      <td>27390.66</td>\n",
       "      <td>27371.85</td>\n",
       "      <td>27377.73</td>\n",
       "      <td>56.51</td>\n",
       "      <td>1547275.23</td>\n",
       "      <td>27389.04</td>\n",
       "      <td>direct</td>\n",
       "      <td></td>\n",
       "    </tr>\n",
       "    <tr>\n",
       "      <th>1376</th>\n",
       "      <td>2023-05-15 19:36:00</td>\n",
       "      <td>27415.87</td>\n",
       "      <td>27389.04</td>\n",
       "      <td>27389.04</td>\n",
       "      <td>55.23</td>\n",
       "      <td>1513369.44</td>\n",
       "      <td>27405.29</td>\n",
       "      <td>direct</td>\n",
       "      <td></td>\n",
       "    </tr>\n",
       "  </tbody>\n",
       "</table>\n",
       "</div>"
      ],
      "text/plain": [
       "                    time      high       low      open  volumefrom  \\\n",
       "1372 2023-05-15 19:32:00  27402.26  27386.48  27402.26       25.74   \n",
       "1373 2023-05-15 19:33:00  27394.13  27379.53  27390.57       24.74   \n",
       "1374 2023-05-15 19:34:00  27381.48  27372.34  27380.80       25.13   \n",
       "1375 2023-05-15 19:35:00  27390.66  27371.85  27377.73       56.51   \n",
       "1376 2023-05-15 19:36:00  27415.87  27389.04  27389.04       55.23   \n",
       "\n",
       "        volumeto     close conversionType conversionSymbol  \n",
       "1372   704901.79  27390.57         direct                   \n",
       "1373   677465.62  27380.80         direct                   \n",
       "1374   687884.88  27377.73         direct                   \n",
       "1375  1547275.23  27389.04         direct                   \n",
       "1376  1513369.44  27405.29         direct                   "
      ]
     },
     "execution_count": 21,
     "metadata": {},
     "output_type": "execute_result"
    }
   ],
   "source": [
    "#Get a slice of the price df corresponding to the tweets time range\n",
    "df_slice = df_price.iloc[start_of_tweets:end_of_tweets]\n",
    "df_slice.head()"
   ]
  },
  {
   "cell_type": "code",
   "execution_count": 22,
   "id": "1ec4ca9e",
   "metadata": {},
   "outputs": [
    {
     "data": {
      "image/png": "[encoded data removed]",
      "text/plain": [
       "<Figure size 936x720 with 2 Axes>"
      ]
     },
     "metadata": {
      "needs_background": "light"
     },
     "output_type": "display_data"
    }
   ],
   "source": [
    "#Plot graph of \n",
    "\n",
    "fig,ax = plt.subplots(2,1,figsize=(13,10))\n",
    "\n",
    "#plot price\n",
    "ax[0].plot(df_slice['time'],df_slice['close']);\n",
    "ax[0].set_title('BTC Price - USD',fontsize=20);\n",
    "\n",
    "#plot sentiment\n",
    "ax[1].plot(btc['Timestamp'],btc['MA Polarity'])\n",
    "ax[1].set_title('Bitcoin Moving Average Polarity',fontsize = 25);\n",
    "ax[1].set_ylabel('Polarity',fontsize = 20);\n",
    "ax[1].set_xlabel('Time',fontsize = 20);"
   ]
  },
  {
   "cell_type": "code",
   "execution_count": null,
   "id": "1f85f412",
   "metadata": {},
   "outputs": [],
   "source": []
  },
  {
   "cell_type": "code",
   "execution_count": null,
   "id": "75a45fae",
   "metadata": {},
   "outputs": [],
   "source": []
  }
 ],
 "metadata": {
  "kernelspec": {
   "display_name": "Python 3 (ipykernel)",
   "language": "python",
   "name": "python3"
  },
  "language_info": {
   "codemirror_mode": {
    "name": "ipython",
    "version": 3
   },
   "file_extension": ".py",
   "mimetype": "text/x-python",
   "name": "python",
   "nbconvert_exporter": "python",
   "pygments_lexer": "ipython3",
   "version": "3.9.12"
  }
 },
 "nbformat": 4,
 "nbformat_minor": 5
}
