{
 "cells": [
  {
   "cell_type": "markdown",
   "id": "a921f0a2",
   "metadata": {},
   "source": [
    "# 1 . Authenticate to Twitter"
   ]
  },
  {
   "cell_type": "code",
   "execution_count": 1,
   "id": "ec9da91c",
   "metadata": {},
   "outputs": [],
   "source": [
    "import tweepy as tw\n",
    "import matplotlib.pyplot as plt\n",
    "import pandas as pd\n",
    "import numpy as np"
   ]
  },
  {
   "cell_type": "code",
   "execution_count": 2,
   "id": "5036b061",
   "metadata": {},
   "outputs": [],
   "source": [
    "%store -r bearer_token\n",
    "#initialize client\n",
    "client = tw.Client(bearer_token=bearer_token)"
   ]
  },
  {
   "cell_type": "markdown",
   "id": "1645f8ad",
   "metadata": {},
   "source": [
    "# 2. Get Tweets\n",
    "- Collect the sentiment(tweets) of each day fro the past seven days at 2400\n",
    "- Collect the varying sentiment over a day at 4 ifeent times of day\n",
    "\n",
    "0600,1200,1800,2400"
   ]
  },
  {
   "cell_type": "code",
   "execution_count": 3,
   "id": "491f6197",
   "metadata": {},
   "outputs": [],
   "source": [
    "import datetime\n",
    "\n",
    "# get current time and start time (14 days ago)\n",
    "yesterday = datetime.datetime.now() - datetime.timedelta(days=1)\n",
    "start_time = yesterday.replace(hour=20,minute=0, second=0, microsecond=0)\n",
    "\n",
    "\n",
    "# format start time string for Twitter API\n",
    "start_time_str = start_time.strftime(\"%Y-%m-%dT%H:%M:%SZ\")\n"
   ]
  },
  {
   "cell_type": "code",
   "execution_count": 37,
   "id": "ffcaed92",
   "metadata": {
    "scrolled": false
   },
   "outputs": [],
   "source": [
    "\n",
    "#Create a query\n",
    "query = '#BTC #bitcoin -is:retweet -eth -ETH -#ETH'\n",
    "\n",
    "\n",
    "#Send the request through the client method\n",
    "response = (tw.Paginator(client.search_recent_tweets,query=query,end_time = start_time  ,\n",
    "                              tweet_fields=['context_annotations', 'created_at'], max_results=100).flatten(limit=150))\n",
    "\n"
   ]
  },
  {
   "cell_type": "code",
   "execution_count": 38,
   "id": "b3247c97",
   "metadata": {},
   "outputs": [],
   "source": [
    "#Unpack the api response into a dictionary\n",
    "tweets= [{'Tweets':tweet.text,'Timestamp':tweet.created_at} for tweet in response]"
   ]
  },
  {
   "cell_type": "markdown",
   "id": "8081331d",
   "metadata": {},
   "source": [
    "Im trying to make the call 7 times with diferent end time each time\n",
    "- Trouble unpacking the gen obj"
   ]
  },
  {
   "cell_type": "markdown",
   "id": "527c8fda",
   "metadata": {},
   "source": [
    "# 3. Preprocess\n",
    "- Clean the tweets\n",
    "- Lematize words\n",
    "\n",
    "Lematize is reducing a word to base form. Walks walking walked get turned to Walk. Making it easier to analyze"
   ]
  },
  {
   "cell_type": "code",
   "execution_count": 39,
   "id": "ebc4e2c3",
   "metadata": {},
   "outputs": [
    {
     "data": {
      "text/html": [
       "<div>\n",
       "<style scoped>\n",
       "    .dataframe tbody tr th:only-of-type {\n",
       "        vertical-align: middle;\n",
       "    }\n",
       "\n",
       "    .dataframe tbody tr th {\n",
       "        vertical-align: top;\n",
       "    }\n",
       "\n",
       "    .dataframe thead th {\n",
       "        text-align: right;\n",
       "    }\n",
       "</style>\n",
       "<table border=\"1\" class=\"dataframe\">\n",
       "  <thead>\n",
       "    <tr style=\"text-align: right;\">\n",
       "      <th></th>\n",
       "      <th>Tweets</th>\n",
       "      <th>Timestamp</th>\n",
       "    </tr>\n",
       "  </thead>\n",
       "  <tbody>\n",
       "    <tr>\n",
       "      <th>0</th>\n",
       "      <td>HI I'm an AI bot I will show my result\\nfor in...</td>\n",
       "      <td>2023-05-15 20:59:41+00:00</td>\n",
       "    </tr>\n",
       "    <tr>\n",
       "      <th>1</th>\n",
       "      <td>#bitcoin #bitcoinnews #bitcointalk #btc On #fa...</td>\n",
       "      <td>2023-05-15 20:59:35+00:00</td>\n",
       "    </tr>\n",
       "    <tr>\n",
       "      <th>2</th>\n",
       "      <td>Best in Crypto 💪\\n\\n@Richquack \\n\\nNeed more i...</td>\n",
       "      <td>2023-05-15 20:59:23+00:00</td>\n",
       "    </tr>\n",
       "    <tr>\n",
       "      <th>3</th>\n",
       "      <td>#XAU #GOLD \\n#BTC  #Bitcoin \\n\\nThe weekly loo...</td>\n",
       "      <td>2023-05-15 20:58:56+00:00</td>\n",
       "    </tr>\n",
       "    <tr>\n",
       "      <th>4</th>\n",
       "      <td>HI I'm an AI bot I will show my result\\nfor in...</td>\n",
       "      <td>2023-05-15 20:58:32+00:00</td>\n",
       "    </tr>\n",
       "  </tbody>\n",
       "</table>\n",
       "</div>"
      ],
      "text/plain": [
       "                                              Tweets                 Timestamp\n",
       "0  HI I'm an AI bot I will show my result\\nfor in... 2023-05-15 20:59:41+00:00\n",
       "1  #bitcoin #bitcoinnews #bitcointalk #btc On #fa... 2023-05-15 20:59:35+00:00\n",
       "2  Best in Crypto 💪\\n\\n@Richquack \\n\\nNeed more i... 2023-05-15 20:59:23+00:00\n",
       "3  #XAU #GOLD \\n#BTC  #Bitcoin \\n\\nThe weekly loo... 2023-05-15 20:58:56+00:00\n",
       "4  HI I'm an AI bot I will show my result\\nfor in... 2023-05-15 20:58:32+00:00"
      ]
     },
     "execution_count": 39,
     "metadata": {},
     "output_type": "execute_result"
    }
   ],
   "source": [
    "df = pd.DataFrame.from_dict(tweets)\n",
    "df.head()"
   ]
  },
  {
   "cell_type": "code",
   "execution_count": 40,
   "id": "c2368784",
   "metadata": {},
   "outputs": [
    {
     "data": {
      "text/plain": [
       "(150, 2)"
      ]
     },
     "execution_count": 40,
     "metadata": {},
     "output_type": "execute_result"
    }
   ],
   "source": [
    "df.shape"
   ]
  },
  {
   "cell_type": "code",
   "execution_count": 41,
   "id": "6e35730b",
   "metadata": {},
   "outputs": [],
   "source": [
    "#import libs\n",
    "import nltk\n",
    "from nltk.corpus import stopwords\n",
    "from textblob import Word, TextBlob"
   ]
  },
  {
   "cell_type": "code",
   "execution_count": 42,
   "id": "2cc30414",
   "metadata": {},
   "outputs": [
    {
     "name": "stderr",
     "output_type": "stream",
     "text": [
      "[nltk_data] Downloading package stopwords to\n",
      "[nltk_data]     C:\\Users\\w126311\\AppData\\Roaming\\nltk_data...\n",
      "[nltk_data]   Package stopwords is already up-to-date!\n",
      "[nltk_data] Downloading package wordnet to\n",
      "[nltk_data]     C:\\Users\\w126311\\AppData\\Roaming\\nltk_data...\n",
      "[nltk_data]   Package wordnet is already up-to-date!\n",
      "[nltk_data] Downloading package omw-1.4 to\n",
      "[nltk_data]     C:\\Users\\w126311\\AppData\\Roaming\\nltk_data...\n",
      "[nltk_data]   Package omw-1.4 is already up-to-date!\n"
     ]
    }
   ],
   "source": [
    "nltk.download('stopwords')\n",
    "nltk.download('wordnet')\n",
    "nltk.download('omw-1.4')\n",
    "stop_words = [stopwords.words('english')]\n",
    "custom_stopwords = ['#','RT','crypto']"
   ]
  },
  {
   "cell_type": "code",
   "execution_count": 43,
   "id": "cbb9e320",
   "metadata": {},
   "outputs": [
    {
     "data": {
      "text/html": [
       "<div>\n",
       "<style scoped>\n",
       "    .dataframe tbody tr th:only-of-type {\n",
       "        vertical-align: middle;\n",
       "    }\n",
       "\n",
       "    .dataframe tbody tr th {\n",
       "        vertical-align: top;\n",
       "    }\n",
       "\n",
       "    .dataframe thead th {\n",
       "        text-align: right;\n",
       "    }\n",
       "</style>\n",
       "<table border=\"1\" class=\"dataframe\">\n",
       "  <thead>\n",
       "    <tr style=\"text-align: right;\">\n",
       "      <th></th>\n",
       "      <th>Tweets</th>\n",
       "      <th>Timestamp</th>\n",
       "      <th>Processed Tweet</th>\n",
       "    </tr>\n",
       "  </thead>\n",
       "  <tbody>\n",
       "    <tr>\n",
       "      <th>0</th>\n",
       "      <td>HI I'm an AI bot I will show my result\\nfor in...</td>\n",
       "      <td>2023-05-15 20:59:41+00:00</td>\n",
       "      <td>HI I'm an AI bot I will show my result for inf...</td>\n",
       "    </tr>\n",
       "    <tr>\n",
       "      <th>1</th>\n",
       "      <td>#bitcoin #bitcoinnews #bitcointalk #btc On #fa...</td>\n",
       "      <td>2023-05-15 20:59:35+00:00</td>\n",
       "      <td>#bitcoin #bitcoinnews #bitcointalk #btc On #fa...</td>\n",
       "    </tr>\n",
       "    <tr>\n",
       "      <th>2</th>\n",
       "      <td>Best in Crypto 💪\\n\\n@Richquack \\n\\nNeed more i...</td>\n",
       "      <td>2023-05-15 20:59:23+00:00</td>\n",
       "      <td>Best in Crypto 💪 @Richquack Need more informat...</td>\n",
       "    </tr>\n",
       "    <tr>\n",
       "      <th>3</th>\n",
       "      <td>#XAU #GOLD \\n#BTC  #Bitcoin \\n\\nThe weekly loo...</td>\n",
       "      <td>2023-05-15 20:58:56+00:00</td>\n",
       "      <td>#XAU #GOLD #BTC #Bitcoin The weekly looking li...</td>\n",
       "    </tr>\n",
       "    <tr>\n",
       "      <th>4</th>\n",
       "      <td>HI I'm an AI bot I will show my result\\nfor in...</td>\n",
       "      <td>2023-05-15 20:58:32+00:00</td>\n",
       "      <td>HI I'm an AI bot I will show my result for inf...</td>\n",
       "    </tr>\n",
       "  </tbody>\n",
       "</table>\n",
       "</div>"
      ],
      "text/plain": [
       "                                              Tweets  \\\n",
       "0  HI I'm an AI bot I will show my result\\nfor in...   \n",
       "1  #bitcoin #bitcoinnews #bitcointalk #btc On #fa...   \n",
       "2  Best in Crypto 💪\\n\\n@Richquack \\n\\nNeed more i...   \n",
       "3  #XAU #GOLD \\n#BTC  #Bitcoin \\n\\nThe weekly loo...   \n",
       "4  HI I'm an AI bot I will show my result\\nfor in...   \n",
       "\n",
       "                  Timestamp                                    Processed Tweet  \n",
       "0 2023-05-15 20:59:41+00:00  HI I'm an AI bot I will show my result for inf...  \n",
       "1 2023-05-15 20:59:35+00:00  #bitcoin #bitcoinnews #bitcointalk #btc On #fa...  \n",
       "2 2023-05-15 20:59:23+00:00  Best in Crypto 💪 @Richquack Need more informat...  \n",
       "3 2023-05-15 20:58:56+00:00  #XAU #GOLD #BTC #Bitcoin The weekly looking li...  \n",
       "4 2023-05-15 20:58:32+00:00  HI I'm an AI bot I will show my result for inf...  "
      ]
     },
     "execution_count": 43,
     "metadata": {},
     "output_type": "execute_result"
    }
   ],
   "source": [
    "def preprocess_tweets(tweet, custom_stopwords):\n",
    "    processed_tweet = tweet\n",
    "    processed_tweet.replace('[^\\w\\s]', '')\n",
    "    processed_tweet = \" \".join(word for word in processed_tweet.split() if word not in stop_words)\n",
    "    processed_tweet = \" \".join(word for word in processed_tweet.split() if word not in custom_stopwords)\n",
    "    processed_tweet = \" \".join(Word(word).lemmatize() for word in processed_tweet.split())\n",
    "    return(processed_tweet)\n",
    "\n",
    "df['Processed Tweet'] = df['Tweets'].apply(lambda x: preprocess_tweets(x, custom_stopwords))\n",
    "df.head()"
   ]
  },
  {
   "cell_type": "markdown",
   "id": "4a50983f",
   "metadata": {},
   "source": [
    "# 4. Calculate Sentiment\n",
    "- Get Polarity and Subjectivity\n",
    "\n",
    "**Polarity** : Negative or Positive\n",
    "\n",
    "**Subjectivity**: How much based on emotion is the tweet"
   ]
  },
  {
   "cell_type": "code",
   "execution_count": 44,
   "id": "b61fb3b3",
   "metadata": {},
   "outputs": [],
   "source": [
    "df['polarity'] = df['Processed Tweet'].apply(lambda x: TextBlob(x).sentiment[0])\n",
    "df['subjectivity'] = df['Processed Tweet'].apply(lambda x: TextBlob(x).sentiment[1])"
   ]
  },
  {
   "cell_type": "code",
   "execution_count": 45,
   "id": "dc61b78e",
   "metadata": {
    "scrolled": true
   },
   "outputs": [
    {
     "data": {
      "text/html": [
       "<div>\n",
       "<style scoped>\n",
       "    .dataframe tbody tr th:only-of-type {\n",
       "        vertical-align: middle;\n",
       "    }\n",
       "\n",
       "    .dataframe tbody tr th {\n",
       "        vertical-align: top;\n",
       "    }\n",
       "\n",
       "    .dataframe thead th {\n",
       "        text-align: right;\n",
       "    }\n",
       "</style>\n",
       "<table border=\"1\" class=\"dataframe\">\n",
       "  <thead>\n",
       "    <tr style=\"text-align: right;\">\n",
       "      <th></th>\n",
       "      <th>Tweets</th>\n",
       "      <th>Timestamp</th>\n",
       "      <th>Processed Tweet</th>\n",
       "      <th>polarity</th>\n",
       "      <th>subjectivity</th>\n",
       "    </tr>\n",
       "  </thead>\n",
       "  <tbody>\n",
       "    <tr>\n",
       "      <th>0</th>\n",
       "      <td>HI I'm an AI bot I will show my result\\nfor in...</td>\n",
       "      <td>2023-05-15 20:59:41+00:00</td>\n",
       "      <td>HI I'm an AI bot I will show my result for inf...</td>\n",
       "      <td>0.00</td>\n",
       "      <td>0.0</td>\n",
       "    </tr>\n",
       "    <tr>\n",
       "      <th>1</th>\n",
       "      <td>#bitcoin #bitcoinnews #bitcointalk #btc On #fa...</td>\n",
       "      <td>2023-05-15 20:59:35+00:00</td>\n",
       "      <td>#bitcoin #bitcoinnews #bitcointalk #btc On #fa...</td>\n",
       "      <td>0.50</td>\n",
       "      <td>0.5</td>\n",
       "    </tr>\n",
       "    <tr>\n",
       "      <th>2</th>\n",
       "      <td>Best in Crypto 💪\\n\\n@Richquack \\n\\nNeed more i...</td>\n",
       "      <td>2023-05-15 20:59:23+00:00</td>\n",
       "      <td>Best in Crypto 💪 @Richquack Need more informat...</td>\n",
       "      <td>0.75</td>\n",
       "      <td>0.4</td>\n",
       "    </tr>\n",
       "    <tr>\n",
       "      <th>3</th>\n",
       "      <td>#XAU #GOLD \\n#BTC  #Bitcoin \\n\\nThe weekly loo...</td>\n",
       "      <td>2023-05-15 20:58:56+00:00</td>\n",
       "      <td>#XAU #GOLD #BTC #Bitcoin The weekly looking li...</td>\n",
       "      <td>0.00</td>\n",
       "      <td>0.0</td>\n",
       "    </tr>\n",
       "    <tr>\n",
       "      <th>4</th>\n",
       "      <td>HI I'm an AI bot I will show my result\\nfor in...</td>\n",
       "      <td>2023-05-15 20:58:32+00:00</td>\n",
       "      <td>HI I'm an AI bot I will show my result for inf...</td>\n",
       "      <td>0.00</td>\n",
       "      <td>0.0</td>\n",
       "    </tr>\n",
       "  </tbody>\n",
       "</table>\n",
       "</div>"
      ],
      "text/plain": [
       "                                              Tweets  \\\n",
       "0  HI I'm an AI bot I will show my result\\nfor in...   \n",
       "1  #bitcoin #bitcoinnews #bitcointalk #btc On #fa...   \n",
       "2  Best in Crypto 💪\\n\\n@Richquack \\n\\nNeed more i...   \n",
       "3  #XAU #GOLD \\n#BTC  #Bitcoin \\n\\nThe weekly loo...   \n",
       "4  HI I'm an AI bot I will show my result\\nfor in...   \n",
       "\n",
       "                  Timestamp  \\\n",
       "0 2023-05-15 20:59:41+00:00   \n",
       "1 2023-05-15 20:59:35+00:00   \n",
       "2 2023-05-15 20:59:23+00:00   \n",
       "3 2023-05-15 20:58:56+00:00   \n",
       "4 2023-05-15 20:58:32+00:00   \n",
       "\n",
       "                                     Processed Tweet  polarity  subjectivity  \n",
       "0  HI I'm an AI bot I will show my result for inf...      0.00           0.0  \n",
       "1  #bitcoin #bitcoinnews #bitcointalk #btc On #fa...      0.50           0.5  \n",
       "2  Best in Crypto 💪 @Richquack Need more informat...      0.75           0.4  \n",
       "3  #XAU #GOLD #BTC #Bitcoin The weekly looking li...      0.00           0.0  \n",
       "4  HI I'm an AI bot I will show my result for inf...      0.00           0.0  "
      ]
     },
     "execution_count": 45,
     "metadata": {},
     "output_type": "execute_result"
    }
   ],
   "source": [
    "df.head()"
   ]
  },
  {
   "cell_type": "code",
   "execution_count": 46,
   "id": "e49587cb",
   "metadata": {},
   "outputs": [
    {
     "data": {
      "text/plain": [
       "(150, 5)"
      ]
     },
     "execution_count": 46,
     "metadata": {},
     "output_type": "execute_result"
    }
   ],
   "source": [
    "df.shape"
   ]
  },
  {
   "cell_type": "code",
   "execution_count": 47,
   "id": "967bfe66",
   "metadata": {},
   "outputs": [
    {
     "data": {
      "text/html": [
       "<div>\n",
       "<style scoped>\n",
       "    .dataframe tbody tr th:only-of-type {\n",
       "        vertical-align: middle;\n",
       "    }\n",
       "\n",
       "    .dataframe tbody tr th {\n",
       "        vertical-align: top;\n",
       "    }\n",
       "\n",
       "    .dataframe thead th {\n",
       "        text-align: right;\n",
       "    }\n",
       "</style>\n",
       "<table border=\"1\" class=\"dataframe\">\n",
       "  <thead>\n",
       "    <tr style=\"text-align: right;\">\n",
       "      <th></th>\n",
       "      <th>polarity</th>\n",
       "      <th>subjectivity</th>\n",
       "    </tr>\n",
       "  </thead>\n",
       "  <tbody>\n",
       "    <tr>\n",
       "      <th>count</th>\n",
       "      <td>150.000000</td>\n",
       "      <td>150.000000</td>\n",
       "    </tr>\n",
       "    <tr>\n",
       "      <th>mean</th>\n",
       "      <td>0.059790</td>\n",
       "      <td>0.181155</td>\n",
       "    </tr>\n",
       "    <tr>\n",
       "      <th>std</th>\n",
       "      <td>0.158499</td>\n",
       "      <td>0.239682</td>\n",
       "    </tr>\n",
       "    <tr>\n",
       "      <th>min</th>\n",
       "      <td>-0.500000</td>\n",
       "      <td>0.000000</td>\n",
       "    </tr>\n",
       "    <tr>\n",
       "      <th>25%</th>\n",
       "      <td>0.000000</td>\n",
       "      <td>0.000000</td>\n",
       "    </tr>\n",
       "    <tr>\n",
       "      <th>50%</th>\n",
       "      <td>0.000000</td>\n",
       "      <td>0.000000</td>\n",
       "    </tr>\n",
       "    <tr>\n",
       "      <th>75%</th>\n",
       "      <td>0.075000</td>\n",
       "      <td>0.400000</td>\n",
       "    </tr>\n",
       "    <tr>\n",
       "      <th>max</th>\n",
       "      <td>0.750000</td>\n",
       "      <td>1.000000</td>\n",
       "    </tr>\n",
       "  </tbody>\n",
       "</table>\n",
       "</div>"
      ],
      "text/plain": [
       "         polarity  subjectivity\n",
       "count  150.000000    150.000000\n",
       "mean     0.059790      0.181155\n",
       "std      0.158499      0.239682\n",
       "min     -0.500000      0.000000\n",
       "25%      0.000000      0.000000\n",
       "50%      0.000000      0.000000\n",
       "75%      0.075000      0.400000\n",
       "max      0.750000      1.000000"
      ]
     },
     "execution_count": 47,
     "metadata": {},
     "output_type": "execute_result"
    }
   ],
   "source": [
    "df.describe()"
   ]
  },
  {
   "cell_type": "markdown",
   "id": "08ec8555",
   "metadata": {},
   "source": [
    "# 5. Vizualize"
   ]
  },
  {
   "cell_type": "code",
   "execution_count": 48,
   "id": "f2293657",
   "metadata": {},
   "outputs": [],
   "source": [
    "#make a moving average for sentiment\n",
    "\n",
    "btc = df[['Timestamp', 'polarity']]\n",
    "btc = btc.sort_values(by='Timestamp', ascending=True)\n",
    "btc['MA Polarity'] = btc.polarity.rolling(10, min_periods=3).mean()"
   ]
  },
  {
   "cell_type": "code",
   "execution_count": 49,
   "id": "3b9787ba",
   "metadata": {
    "scrolled": true
   },
   "outputs": [
    {
     "data": {
      "text/html": [
       "<div>\n",
       "<style scoped>\n",
       "    .dataframe tbody tr th:only-of-type {\n",
       "        vertical-align: middle;\n",
       "    }\n",
       "\n",
       "    .dataframe tbody tr th {\n",
       "        vertical-align: top;\n",
       "    }\n",
       "\n",
       "    .dataframe thead th {\n",
       "        text-align: right;\n",
       "    }\n",
       "</style>\n",
       "<table border=\"1\" class=\"dataframe\">\n",
       "  <thead>\n",
       "    <tr style=\"text-align: right;\">\n",
       "      <th></th>\n",
       "      <th>Timestamp</th>\n",
       "      <th>polarity</th>\n",
       "      <th>MA Polarity</th>\n",
       "    </tr>\n",
       "  </thead>\n",
       "  <tbody>\n",
       "    <tr>\n",
       "      <th>149</th>\n",
       "      <td>2023-05-15 20:19:21+00:00</td>\n",
       "      <td>0.0</td>\n",
       "      <td>NaN</td>\n",
       "    </tr>\n",
       "    <tr>\n",
       "      <th>148</th>\n",
       "      <td>2023-05-15 20:19:26+00:00</td>\n",
       "      <td>0.0</td>\n",
       "      <td>NaN</td>\n",
       "    </tr>\n",
       "    <tr>\n",
       "      <th>147</th>\n",
       "      <td>2023-05-15 20:19:29+00:00</td>\n",
       "      <td>0.0</td>\n",
       "      <td>0.0</td>\n",
       "    </tr>\n",
       "    <tr>\n",
       "      <th>146</th>\n",
       "      <td>2023-05-15 20:19:38+00:00</td>\n",
       "      <td>0.0</td>\n",
       "      <td>0.0</td>\n",
       "    </tr>\n",
       "    <tr>\n",
       "      <th>145</th>\n",
       "      <td>2023-05-15 20:20:04+00:00</td>\n",
       "      <td>0.0</td>\n",
       "      <td>0.0</td>\n",
       "    </tr>\n",
       "  </tbody>\n",
       "</table>\n",
       "</div>"
      ],
      "text/plain": [
       "                    Timestamp  polarity  MA Polarity\n",
       "149 2023-05-15 20:19:21+00:00       0.0          NaN\n",
       "148 2023-05-15 20:19:26+00:00       0.0          NaN\n",
       "147 2023-05-15 20:19:29+00:00       0.0          0.0\n",
       "146 2023-05-15 20:19:38+00:00       0.0          0.0\n",
       "145 2023-05-15 20:20:04+00:00       0.0          0.0"
      ]
     },
     "execution_count": 49,
     "metadata": {},
     "output_type": "execute_result"
    }
   ],
   "source": [
    "btc.head()"
   ]
  },
  {
   "cell_type": "code",
   "execution_count": 50,
   "id": "c74866d2",
   "metadata": {
    "scrolled": true
   },
   "outputs": [
    {
     "data": {
      "image/png": "[encoded data removed]",
      "text/plain": [
       "<Figure size 1080x576 with 1 Axes>"
      ]
     },
     "metadata": {
      "needs_background": "light"
     },
     "output_type": "display_data"
    }
   ],
   "source": [
    "#plot the MA polarity\n",
    "fig,ax = plt.subplots(figsize=(15,8))\n",
    "ax.plot(btc['Timestamp'],btc['MA Polarity'])\n",
    "ax.set_title('Bitcoin Moving Average Polarity',fontsize = 25);\n",
    "ax.set_ylabel('Polarity',fontsize = 20);\n",
    "ax.set_xlabel('Time',fontsize = 20);"
   ]
  },
  {
   "cell_type": "markdown",
   "id": "de32d8f8",
   "metadata": {},
   "source": [
    "# 6. Compare With BTC price\n",
    "- Collect BTC price data\n",
    "- Make sure the data is from the same time period as the tweets"
   ]
  },
  {
   "cell_type": "code",
   "execution_count": 51,
   "id": "2099ad3b",
   "metadata": {
    "scrolled": true
   },
   "outputs": [],
   "source": [
    "#Get the tweets time range\n",
    "start_range = df['Timestamp'].iloc[-1].round('min')\n",
    "end_range = df['Timestamp'][0].round('min')\n",
    "\n",
    "# Format the timestamp\n",
    "formatted_start_range = start_range.strftime(\"%Y-%m-%d %H:%M:%S\")\n",
    "formatted_end_range = end_range.strftime(\"%Y-%m-%d %H:%M:%S\")\n",
    "\n",
    "#Set the API hours variable based on the tweets end_range\n",
    "API_hours = end_range.round('H').hour+1"
   ]
  },
  {
   "cell_type": "code",
   "execution_count": 52,
   "id": "70075c07",
   "metadata": {
    "scrolled": true
   },
   "outputs": [],
   "source": [
    "#Get the price data from API\n",
    "\n",
    "import requests\n",
    "import time\n",
    "\n",
    "#get data from api\n",
    "\n",
    "url = 'https://min-api.cryptocompare.com/data/v2/histominute'\n",
    "\n",
    "start_time = yesterday.replace(hour=API_hours,minute=0, second=0, microsecond=0)\n",
    "\n",
    "# set the parameters for the API request\n",
    "params = {\n",
    "    'fsym': 'BTC',\n",
    "    'tsym': 'USD',\n",
    "    'limit': 1400,  # number of minutes to retrieve\n",
    "    'aggregate': 1,  # granularity of the data (1 = 1 minute)\n",
    "    'toTs': int(time.mktime(start_time.timetuple()))\n",
    "}\n",
    "\n",
    "response = requests.get(url, params=params)\n",
    "data = response.json()['Data']['Data']\n",
    "df_price = pd.DataFrame(data = data)\n",
    "\n",
    "\n",
    "df_price['time'] = pd.to_datetime(df_price['time'], unit='s')\n"
   ]
  },
  {
   "cell_type": "code",
   "execution_count": 53,
   "id": "2c081623",
   "metadata": {},
   "outputs": [],
   "source": [
    "#get the index in the price df of values we want\n",
    "start_of_tweets = df_price['time'][df_price['time'] == formatted_start_range].index.item()\n",
    "end_of_tweets = df_price['time'][df_price['time'] == formatted_end_range].index.item()\n"
   ]
  },
  {
   "cell_type": "code",
   "execution_count": 54,
   "id": "b35cb90e",
   "metadata": {},
   "outputs": [
    {
     "data": {
      "text/html": [
       "<div>\n",
       "<style scoped>\n",
       "    .dataframe tbody tr th:only-of-type {\n",
       "        vertical-align: middle;\n",
       "    }\n",
       "\n",
       "    .dataframe tbody tr th {\n",
       "        vertical-align: top;\n",
       "    }\n",
       "\n",
       "    .dataframe thead th {\n",
       "        text-align: right;\n",
       "    }\n",
       "</style>\n",
       "<table border=\"1\" class=\"dataframe\">\n",
       "  <thead>\n",
       "    <tr style=\"text-align: right;\">\n",
       "      <th></th>\n",
       "      <th>time</th>\n",
       "      <th>high</th>\n",
       "      <th>low</th>\n",
       "      <th>open</th>\n",
       "      <th>volumefrom</th>\n",
       "      <th>volumeto</th>\n",
       "      <th>close</th>\n",
       "      <th>conversionType</th>\n",
       "      <th>conversionSymbol</th>\n",
       "    </tr>\n",
       "  </thead>\n",
       "  <tbody>\n",
       "    <tr>\n",
       "      <th>1359</th>\n",
       "      <td>2023-05-15 20:19:00</td>\n",
       "      <td>27383.91</td>\n",
       "      <td>27358.85</td>\n",
       "      <td>27383.91</td>\n",
       "      <td>29.920</td>\n",
       "      <td>818957.75</td>\n",
       "      <td>27360.02</td>\n",
       "      <td>direct</td>\n",
       "      <td></td>\n",
       "    </tr>\n",
       "    <tr>\n",
       "      <th>1360</th>\n",
       "      <td>2023-05-15 20:20:00</td>\n",
       "      <td>27362.73</td>\n",
       "      <td>27347.99</td>\n",
       "      <td>27360.02</td>\n",
       "      <td>27.290</td>\n",
       "      <td>746393.20</td>\n",
       "      <td>27359.74</td>\n",
       "      <td>direct</td>\n",
       "      <td></td>\n",
       "    </tr>\n",
       "    <tr>\n",
       "      <th>1361</th>\n",
       "      <td>2023-05-15 20:21:00</td>\n",
       "      <td>27382.17</td>\n",
       "      <td>27359.74</td>\n",
       "      <td>27359.74</td>\n",
       "      <td>7.534</td>\n",
       "      <td>206266.67</td>\n",
       "      <td>27381.90</td>\n",
       "      <td>direct</td>\n",
       "      <td></td>\n",
       "    </tr>\n",
       "    <tr>\n",
       "      <th>1362</th>\n",
       "      <td>2023-05-15 20:22:00</td>\n",
       "      <td>27381.90</td>\n",
       "      <td>27372.89</td>\n",
       "      <td>27381.90</td>\n",
       "      <td>9.397</td>\n",
       "      <td>257234.66</td>\n",
       "      <td>27372.92</td>\n",
       "      <td>direct</td>\n",
       "      <td></td>\n",
       "    </tr>\n",
       "    <tr>\n",
       "      <th>1363</th>\n",
       "      <td>2023-05-15 20:23:00</td>\n",
       "      <td>27387.68</td>\n",
       "      <td>27369.88</td>\n",
       "      <td>27372.92</td>\n",
       "      <td>17.810</td>\n",
       "      <td>487619.37</td>\n",
       "      <td>27382.12</td>\n",
       "      <td>direct</td>\n",
       "      <td></td>\n",
       "    </tr>\n",
       "  </tbody>\n",
       "</table>\n",
       "</div>"
      ],
      "text/plain": [
       "                    time      high       low      open  volumefrom   volumeto  \\\n",
       "1359 2023-05-15 20:19:00  27383.91  27358.85  27383.91      29.920  818957.75   \n",
       "1360 2023-05-15 20:20:00  27362.73  27347.99  27360.02      27.290  746393.20   \n",
       "1361 2023-05-15 20:21:00  27382.17  27359.74  27359.74       7.534  206266.67   \n",
       "1362 2023-05-15 20:22:00  27381.90  27372.89  27381.90       9.397  257234.66   \n",
       "1363 2023-05-15 20:23:00  27387.68  27369.88  27372.92      17.810  487619.37   \n",
       "\n",
       "         close conversionType conversionSymbol  \n",
       "1359  27360.02         direct                   \n",
       "1360  27359.74         direct                   \n",
       "1361  27381.90         direct                   \n",
       "1362  27372.92         direct                   \n",
       "1363  27382.12         direct                   "
      ]
     },
     "execution_count": 54,
     "metadata": {},
     "output_type": "execute_result"
    }
   ],
   "source": [
    "#Get a slice of the price df corresponding to the tweets time range\n",
    "df_slice = df_price.iloc[start_of_tweets:end_of_tweets]\n",
    "df_slice.head()"
   ]
  },
  {
   "cell_type": "code",
   "execution_count": 55,
   "id": "1ec4ca9e",
   "metadata": {},
   "outputs": [
    {
     "data": {
      "image/png": "[encoded data removed]",
      "text/plain": [
       "<Figure size 936x720 with 2 Axes>"
      ]
     },
     "metadata": {
      "needs_background": "light"
     },
     "output_type": "display_data"
    }
   ],
   "source": [
    "#Plot graph of \n",
    "\n",
    "fig,ax = plt.subplots(2,1,figsize=(13,10))\n",
    "\n",
    "#plot price\n",
    "ax[0].plot(df_slice['time'],df_slice['close']);\n",
    "ax[0].set_title('BTC Price - USD',fontsize=20);\n",
    "\n",
    "#plot sentiment\n",
    "ax[1].plot(btc['Timestamp'],btc['MA Polarity'])\n",
    "ax[1].set_title('Bitcoin Moving Average Polarity',fontsize = 25);\n",
    "ax[1].set_ylabel('Polarity',fontsize = 20);\n",
    "ax[1].set_xlabel('Time',fontsize = 20);"
   ]
  },
  {
   "cell_type": "code",
   "execution_count": null,
   "id": "1f85f412",
   "metadata": {},
   "outputs": [],
   "source": []
  },
  {
   "cell_type": "code",
   "execution_count": null,
   "id": "c73305db",
   "metadata": {},
   "outputs": [],
   "source": []
  }
 ],
 "metadata": {
  "kernelspec": {
   "display_name": "Python 3 (ipykernel)",
   "language": "python",
   "name": "python3"
  },
  "language_info": {
   "codemirror_mode": {
    "name": "ipython",
    "version": 3
   },
   "file_extension": ".py",
   "mimetype": "text/x-python",
   "name": "python",
   "nbconvert_exporter": "python",
   "pygments_lexer": "ipython3",
   "version": "3.9.12"
  }
 },
 "nbformat": 4,
 "nbformat_minor": 5
}
